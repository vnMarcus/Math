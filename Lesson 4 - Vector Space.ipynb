{
 "cells": [
  {
   "cell_type": "code",
   "execution_count": 44,
   "id": "c47137b1",
   "metadata": {},
   "outputs": [],
   "source": [
    "import numpy as np\n",
    "from scipy import linalg\n",
    "import matplotlib.pyplot as plt\n",
    "from sklearn.linear_model import LinearRegression"
   ]
  },
  {
   "cell_type": "code",
   "execution_count": 10,
   "id": "965d3866",
   "metadata": {},
   "outputs": [
    {
     "name": "stdout",
     "output_type": "stream",
     "text": [
      "[[ 1  2  1 -7]\n",
      " [-2  5  1  2]\n",
      " [ 3 -2  0  5]\n",
      " [ 1  4  2  3]]\n",
      "[[  3.          -2.           0.           5.        ]\n",
      " [  0.           4.66666667   2.           1.33333333]\n",
      " [  0.           0.          -0.57142857   4.28571429]\n",
      " [  0.           0.           0.         -10.5       ]]\n"
     ]
    }
   ],
   "source": [
    "# Kiểm tra xem 1 vector có phải 1 tổ hợp tuyến tính\n",
    "x1 = np.array([1,-2,3,1])\n",
    "x2 = np.array([2,5,-2,4])\n",
    "x3 = np.array([1,1,0,2])\n",
    "v = np.array([-7,2,5,3])\n",
    "X_bar = np.vstack([x1,x2,x3, v]).T\n",
    "print(X_bar)\n",
    "U = linalg.lu(X_bar)[-1]\n",
    "print(U)\n",
    "print(\"He pt vo nghiem => khong co to hop tuyen tinh.\")\n",
    "\n"
   ]
  },
  {
   "cell_type": "code",
   "execution_count": 15,
   "id": "cc5020c4",
   "metadata": {},
   "outputs": [
    {
     "name": "stdout",
     "output_type": "stream",
     "text": [
      "[[ 1  3 -2]\n",
      " [-5 -7  2]\n",
      " [-4  1 -5]\n",
      " [ 2  5 -3]]\n",
      "He phu thuoc tuyen tinh.\n"
     ]
    }
   ],
   "source": [
    "# Kiem tra su doc lap hay phu thuoc tuyen tinh\n",
    "v1 = np.array([1, -5, -4, 2])\n",
    "v2 = np.array([3, -7, 1, 5])\n",
    "v3 = np.array([-2, 2, -5, -3])\n",
    "V = np.stack([v1, v2, v3]).T\n",
    "print(V)\n",
    "r = np.linalg.matrix_rank(V)\n",
    "if r == 3:\n",
    "    print(\"He doc lap tuyen tinh.\")\n",
    "else:\n",
    "    print(\"He phu thuoc tuyen tinh.\")"
   ]
  },
  {
   "cell_type": "code",
   "execution_count": 20,
   "id": "4af0ccde",
   "metadata": {},
   "outputs": [
    {
     "name": "stdout",
     "output_type": "stream",
     "text": [
      "[[ 1  2  3 -1]\n",
      " [ 2 -1 -4  8]\n",
      " [-1  1  3 -5]\n",
      " [-1  2  5 -6]]\n",
      "[[ 2.0000000e+00 -1.0000000e+00 -4.0000000e+00  8.0000000e+00]\n",
      " [ 0.0000000e+00  2.5000000e+00  5.0000000e+00 -5.0000000e+00]\n",
      " [ 0.0000000e+00  0.0000000e+00 -4.4408921e-16  1.0000000e+00]\n",
      " [ 0.0000000e+00  0.0000000e+00  0.0000000e+00 -1.2500000e-01]]\n",
      "x1,x2\n"
     ]
    }
   ],
   "source": [
    "# Xác định cơ sở của không gian với hệ sinh cho trước U = span(x1, x2, x3, ...)\n",
    "x1 = np.array([1,2,-1,-1])\n",
    "x2 = np.array([2,-1,1,2])\n",
    "x3 = np.array([3,-4,3,5])\n",
    "x4 = np.array([-1,8,-5,-6])\n",
    "X = np.vstack([x1,x2,x3,x4]).T\n",
    "print(X)\n",
    "U = linalg.lu(X)[-1]\n",
    "print(U)\n",
    "print('x1,x2')"
   ]
  },
  {
   "cell_type": "code",
   "execution_count": 28,
   "id": "aff67fb3",
   "metadata": {},
   "outputs": [
    {
     "name": "stdout",
     "output_type": "stream",
     "text": [
      "[-5  2 -5]\n",
      "Toa do cua vector x: [ 1. -2.  1.]\n",
      "[ 16  -6 -11   7]\n"
     ]
    },
    {
     "data": {
      "text/plain": [
       "array([ 2., -1.,  3.])"
      ]
     },
     "execution_count": 28,
     "metadata": {},
     "output_type": "execute_result"
    }
   ],
   "source": [
    "# Tim toa do\n",
    "b1 = np.array([1,2,-2])\n",
    "b2 = np.array([2,1,2])\n",
    "b3 = np.array([-2,2,1])\n",
    "B = np.vstack([b1,b2,b3]).T\n",
    "np.linalg.matrix_rank(B)\n",
    "x = np.random.randint(-5,5,3)\n",
    "print(x)\n",
    "print('Toa do cua vector x:', np.linalg.solve(B, x))\n",
    "\n",
    "# Tim toa do trong khong gian con cua R4 co co so b1,b2,b3\n",
    "\n",
    "b1 = np.array([1,-2,1,4])\n",
    "b2 = np.array([-5,2,1,7])\n",
    "b3 = np.array([3,0,-4,2])\n",
    "B = np.vstack([b1,b2,b3]).T\n",
    "np.linalg.matrix_rank(B) # Kiem tra co so\n",
    "x = 2*b1 - b2 + 3*b3\n",
    "print(x)\n",
    "np.linalg.lstsq(B,x,rcond=None)[0] # Note: vo nghiem cung tim duoc nghiem.\n"
   ]
  },
  {
   "cell_type": "code",
   "execution_count": 39,
   "id": "a738ea2b",
   "metadata": {},
   "outputs": [
    {
     "name": "stdout",
     "output_type": "stream",
     "text": [
      "[[ 0.11111111  0.33333333  0.11111111]\n",
      " [ 0.22222222  0.33333333  0.55555556]\n",
      " [-0.22222222 -0.          0.11111111]]\n",
      "[[ 0.11111111  0.33333333  0.11111111]\n",
      " [ 0.22222222  0.33333333  0.55555556]\n",
      " [-0.22222222  0.          0.11111111]]\n"
     ]
    }
   ],
   "source": [
    "# Ma tran chuyen co so tu B sang C\n",
    "b1 = np.array([1, 0, 0])\n",
    "b2 = np.array([1, 1, 0])\n",
    "b3 = np.array([1, 1, 1])\n",
    "B = np.vstack([b1,b2,b3]).T\n",
    "\n",
    "\n",
    "c1 = np.array([1,2,-2])\n",
    "c2 = np.array([2,1,2])\n",
    "c3 = np.array([-2,2,1])\n",
    "C = np.vstack([c1,c2,c3]).T\n",
    "\n",
    "coor_b1 = np.linalg.solve(C,b1)\n",
    "coor_b2 = np.linalg.solve(C,b2)\n",
    "coor_b3 = np.linalg.solve(C,b3)\n",
    "\n",
    "P_B2C = np.vstack([coor_b1, coor_b2, coor_b3]).T\n",
    "print(P_B2C)\n",
    "# Cách khác CxP = B = [b1,b2,b3]\n",
    "P_B2C = np.linalg.inv(C)@B\n",
    "print(P_B2C)"
   ]
  },
  {
   "cell_type": "code",
   "execution_count": 51,
   "id": "0850db0a",
   "metadata": {},
   "outputs": [
    {
     "name": "stdout",
     "output_type": "stream",
     "text": [
      "Cac tham so: [ 4.13651312 -3.02514413  0.30565193]\n"
     ]
    },
    {
     "data": {
      "image/png": "[encoded data removed]",
      "text/plain": [
       "<Figure size 432x288 with 1 Axes>"
      ]
     },
     "metadata": {
      "needs_background": "light"
     },
     "output_type": "display_data"
    }
   ],
   "source": [
    "# Xay dung mo hinh hoi quy da thuc\n",
    "n = 100\n",
    "e = 5 * np.random.rand(n)\n",
    "x = np.linspace(-5,10,n)\n",
    "y = 2 - 3 * x + 0.3*x **2 + e\n",
    "\n",
    "\n",
    "\n",
    "# Uoc luong mo hinh\n",
    "X = np.vstack([np.ones(n), x, x**2]).T\n",
    "model = LinearRegression(fit_intercept=False)\n",
    "model.fit(X, y)\n",
    "print(\"Cac tham so:\", model.coef_)\n",
    "\n",
    "# Vẽ biểu đồ\n",
    "plt.scatter(x,y,color=\"Navy\", label=\"Original data\")\n",
    "yfit = model.predict(X)\n",
    "plt.plot(x,yfit,color='maroon', label=\"Regression\")\n",
    "plt.legend()\n",
    "plt.show()\n"
   ]
  },
  {
   "cell_type": "code",
   "execution_count": 50,
   "id": "33e74c0c",
   "metadata": {},
   "outputs": [],
   "source": [
    "from scipy.optimize import curve_fit"
   ]
  },
  {
   "cell_type": "code",
   "execution_count": 52,
   "id": "fd58dec4",
   "metadata": {},
   "outputs": [
    {
     "name": "stdout",
     "output_type": "stream",
     "text": [
      "Tham so cua mo hinh:  [ 4.13651312 -3.02514413  0.30565193]\n"
     ]
    }
   ],
   "source": [
    "def f(x,a,b,c):\n",
    "    return a + b*x + c*x**2\n",
    "popt, pcov =curve_fit(f,x,y)\n",
    "print(\"Tham so cua mo hinh: \", popt)"
   ]
  }
 ],
 "metadata": {
  "kernelspec": {
   "display_name": "Python 3 (ipykernel)",
   "language": "python",
   "name": "python3"
  },
  "language_info": {
   "codemirror_mode": {
    "name": "ipython",
    "version": 3
   },
   "file_extension": ".py",
   "mimetype": "text/x-python",
   "name": "python",
   "nbconvert_exporter": "python",
   "pygments_lexer": "ipython3",
   "version": "3.9.7"
  }
 },
 "nbformat": 4,
 "nbformat_minor": 5
}
