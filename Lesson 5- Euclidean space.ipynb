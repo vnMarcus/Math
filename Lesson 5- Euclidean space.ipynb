{
 "cells": [
  {
   "cell_type": "code",
   "execution_count": 1,
   "id": "4e082426",
   "metadata": {},
   "outputs": [],
   "source": [
    "import numpy as np"
   ]
  },
  {
   "cell_type": "markdown",
   "id": "c2e0e875",
   "metadata": {},
   "source": [
    "### Một số câu lệnh\n",
    "> np.inner(x,y) : tính tích vô hướng giữa hai vecto\n",
    "\n",
    "> np.linalg.norm(x): tính chuẩn của vecto"
   ]
  },
  {
   "cell_type": "code",
   "execution_count": 5,
   "id": "29524d31",
   "metadata": {},
   "outputs": [
    {
     "name": "stdout",
     "output_type": "stream",
     "text": [
      "[ 2 -4  3  2  1]\n",
      "[-1  5  2 -6  0]\n",
      "Do dai a: 5.830951894845301\n",
      "Do dai b: 8.12403840463596\n"
     ]
    }
   ],
   "source": [
    "# Tinh tich vo huong\n",
    "a = np.array([2,-4,3,2,1])\n",
    "b = np.array([-1,5,2,-6,0])\n",
    "print(a)\n",
    "print(b)\n",
    "np.inner(a, b) # tinh tich vo huong\n",
    "\n",
    "# Tinh chuan\n",
    "print(\"Do dai a:\", np.linalg.norm(a))\n",
    "print(\"Do dai b:\", np.linalg.norm(b))"
   ]
  },
  {
   "cell_type": "code",
   "execution_count": 6,
   "id": "f76a4cb8",
   "metadata": {},
   "outputs": [
    {
     "data": {
      "text/plain": [
       "-28"
      ]
     },
     "execution_count": 6,
     "metadata": {},
     "output_type": "execute_result"
    }
   ],
   "source": [
    "a@b\n",
    "np.dot(a, b)\n",
    "np.matmul(a, b)"
   ]
  },
  {
   "cell_type": "code",
   "execution_count": 8,
   "id": "4797b3a5",
   "metadata": {},
   "outputs": [
    {
     "name": "stdout",
     "output_type": "stream",
     "text": [
      "The distance between a and b is: 12.489995996796797\n"
     ]
    }
   ],
   "source": [
    "# khoang cach giua 2 vecto\n",
    "print(\"The distance between a and b is:\", np.linalg.norm(a - b))"
   ]
  },
  {
   "cell_type": "code",
   "execution_count": 9,
   "id": "29c8b553",
   "metadata": {},
   "outputs": [
    {
     "name": "stdout",
     "output_type": "stream",
     "text": [
      "-0.5910804632890486\n"
     ]
    }
   ],
   "source": [
    "# khoang cach giua a va b\n",
    "cos_w = np.inner(a, b) / (np.linalg.norm(a) * np.linalg.norm(b))\n",
    "print(cos_w)"
   ]
  },
  {
   "cell_type": "markdown",
   "id": "eb81e2ff",
   "metadata": {},
   "source": [
    "### Xây dựng cơ sở trực giao, trực chuẩn của không gian\n"
   ]
  },
  {
   "cell_type": "code",
   "execution_count": 20,
   "id": "280b18aa",
   "metadata": {},
   "outputs": [
    {
     "name": "stdout",
     "output_type": "stream",
     "text": [
      "He duoc chon la 1 co so.\n",
      "[1 1 1 1]\n",
      "[-2.  1.  1.  0.]\n",
      "[-0.33333333 -3.33333333  2.66666667  1.        ]\n",
      "[-0.54310345 -0.18103448 -0.90517241  1.62931034]\n",
      "[0.5 0.5 0.5 0.5]\n",
      "[-0.81649658  0.40824829  0.40824829  0.        ]\n",
      "[-0.0758098  -0.75809804  0.60647843  0.22742941]\n",
      "[-0.27854301 -0.09284767 -0.46423835  0.83562902]\n"
     ]
    },
    {
     "data": {
      "text/plain": [
       "1.0"
      ]
     },
     "execution_count": 20,
     "metadata": {},
     "output_type": "execute_result"
    }
   ],
   "source": [
    "# Chon 4 vector\n",
    "x1 = np.array([1,1,1,1])\n",
    "x2 = np.array([-1,2,2,1])\n",
    "x3 = np.array([0,-2,4,2])\n",
    "x4 = np.array([2,5,-1,3])\n",
    "# Kiem tra he vecto co phai co so hay khong.\n",
    "\n",
    "x = np.vstack([x1, x2, x3, x4]).T\n",
    "r = np.linalg.matrix_rank(x) # r = 4 thi la co so.\n",
    "if r == 4:\n",
    "    print(\"He duoc chon la 1 co so.\")\n",
    "else:\n",
    "    print(\"Day khong phai la co so.\")\n",
    "\n",
    "# Truc giao hoa \n",
    "v1 = x1\n",
    "v2 = x2 - np.inner(x2, v1)/np.inner(v1, v1) * v1\n",
    "v3 = x3 - np.inner(x3, v1)/np.inner(v1, v1) * v1 - np.inner(x3, v2)/np.inner(v2, v2) * v2\n",
    "v4 = x4 - np.inner(x4, v1)/np.inner(v1, v1) * v1 - np.inner(x4, v2)/np.inner(v2, v2) * v2 - \\\n",
    "np.inner(x4, v3)/np.inner(v3, v3) * v3\n",
    "print(v1, v2, v3, v4, sep=\"\\n\")\n",
    "\n",
    "# Kiem tra bang cach tinh tich tung doi mot, neu tat ca = 0 thi dung.\n",
    "# Truc chuan hoa\n",
    "e_v1 = v1/np.linalg.norm(v1) \n",
    "e_v2 = v2/np.linalg.norm(v2) \n",
    "e_v3 = v3/np.linalg.norm(v3) \n",
    "e_v4 = v4/np.linalg.norm(v4)\n",
    "print(e_v1, e_v2, e_v3, e_v4, sep=\"\\n\")\n",
    "np.linalg.norm(e_v2)\n",
    "\n"
   ]
  },
  {
   "cell_type": "code",
   "execution_count": 25,
   "id": "bf3d9690",
   "metadata": {},
   "outputs": [
    {
     "name": "stdout",
     "output_type": "stream",
     "text": [
      "[  7 -12   2   4]\n",
      "Toa do cua [  7 -12   2   4] trong co so truc giao v: \n",
      "[ 0.25       -4.          2.43103448  0.80952381]\n",
      "[ 0.5        -9.79795897 10.68918241  1.57841037]\n"
     ]
    }
   ],
   "source": [
    "# Tinh toạ độ của các vector trong cơ sở trực giao, trực chuẩn\n",
    "x = np.array([7, -12,2,4])\n",
    "print(x)\n",
    "print(f\"Toa do cua {x} trong co so truc giao v: \")\n",
    "x_v = np.array([np.inner(x, v1)/np.inner(v1, v1), np.inner(x, v2)/np.inner(v2, v2),\n",
    "               np.inner(x, v3)/np.inner(v3, v3), np.inner(x, v4)/np.inner(v4, v4)])\n",
    "print(x_v)\n",
    "e_v = np.array([np.inner(x, e_v1), np.inner(x, e_v2),\n",
    "               np.inner(x, e_v3), np.inner(x, e_v4)])\n",
    "print(e_v)"
   ]
  },
  {
   "cell_type": "code",
   "execution_count": 28,
   "id": "3ddc7b3b",
   "metadata": {},
   "outputs": [
    {
     "name": "stdout",
     "output_type": "stream",
     "text": [
      "[[ 0.5        -0.81649658 -0.0758098  -0.27854301]\n",
      " [ 0.5         0.40824829 -0.75809804 -0.09284767]\n",
      " [ 0.5         0.40824829  0.60647843 -0.46423835]\n",
      " [ 0.5         0.          0.22742941  0.83562902]]\n"
     ]
    },
    {
     "data": {
      "text/plain": [
       "array([ 0.5       , -9.79795897, 10.68918241,  1.57841037])"
      ]
     },
     "execution_count": 28,
     "metadata": {},
     "output_type": "execute_result"
    }
   ],
   "source": [
    "# tinh toa do bang giai phuong trinh: B[x]_B = x\n",
    "EV = np.vstack([e_v1, e_v2, e_v3, e_v4]).T\n",
    "print(EV)\n",
    "np.linalg.solve(EV, x)"
   ]
  },
  {
   "cell_type": "markdown",
   "id": "b87eda5c",
   "metadata": {},
   "source": [
    "### Tim hinh chieu truc giao cua 1 vecto\n"
   ]
  },
  {
   "cell_type": "code",
   "execution_count": 38,
   "id": "049da016",
   "metadata": {},
   "outputs": [
    {
     "name": "stdout",
     "output_type": "stream",
     "text": [
      "[0.5 0.5 0.5 0.5]\n",
      "[-0.81649658  0.40824829  0.40824829  0.        ]\n",
      "[-0.0758098  -0.75809804  0.60647843  0.22742941]\n",
      "Hình chiếu trực giao của [ 3 -3  7 -5] là: \n",
      "[ 0.77586207 -3.74137931  3.29310345  1.67241379]\n",
      "0.0\n"
     ]
    }
   ],
   "source": [
    "# Xét R4, cho không gian W có cơ sở:\n",
    "x1 = np.array([1,1,1,1])\n",
    "x2 = np.array([-1,2,2,1])\n",
    "x3 = np.array([0,-2,4,2])\n",
    "\n",
    "x = np.vstack([x1, x2, x3, x4]).T\n",
    "\n",
    "# Truc giao hoa \n",
    "v1 = x1\n",
    "v2 = x2 - np.inner(x2, v1)/np.inner(v1, v1) * v1\n",
    "v3 = x3 - np.inner(x3, v1)/np.inner(v1, v1) * v1 - np.inner(x3, v2)/np.inner(v2, v2) * v2\n",
    "\n",
    "\n",
    "# Kiem tra bang cach tinh tich tung doi mot, neu tat ca = 0 thi dung.\n",
    "# Truc chuan hoa\n",
    "e_v1 = v1/np.linalg.norm(v1) \n",
    "e_v2 = v2/np.linalg.norm(v2) \n",
    "e_v3 = v3/np.linalg.norm(v3) \n",
    "print(e_v1, e_v2, e_v3, sep=\"\\n\")\n",
    "\n",
    "# Tim hinh chieu truc giao\n",
    "y = np.array([3, -3, 7, -5])\n",
    "print(f\"Hình chiếu trực giao của {y} là: \")\n",
    "y_proj = np.inner(y, e_v1) * e_v1 + np.inner(y, e_v2) * e_v2 + np.inner(y, e_v3) * e_v3\n",
    "print(y_proj)\n",
    "z = y - y_proj\n",
    "print(np.around(np.inner(z, y_proj),5))\n",
    "\n"
   ]
  },
  {
   "cell_type": "code",
   "execution_count": 43,
   "id": "743ebf19",
   "metadata": {},
   "outputs": [
    {
     "name": "stdout",
     "output_type": "stream",
     "text": [
      "[[1 0 0]\n",
      " [1 1 0]\n",
      " [1 1 1]]\n",
      "Co so cua khong gian Col(A) la \n",
      "[0.57735027 0.57735027 0.57735027]\n",
      "[-0.81649658  0.40824829  0.40824829]\n",
      "[ 0.         -0.70710678  0.70710678]\n",
      "[[ 0.57735027 -0.81649658  0.        ]\n",
      " [ 0.57735027  0.40824829 -0.70710678]\n",
      " [ 0.57735027  0.40824829  0.70710678]]\n"
     ]
    }
   ],
   "source": [
    "# Tim phan tich QR\n",
    "A = np.array([[1, 0, 0],\n",
    "              [1,1,0],\n",
    "              [1,1,1]])\n",
    "print(A)\n",
    "x1 = A[:,0]\n",
    "x2 = A[:,1]\n",
    "x3 = A[:,2]\n",
    "\n",
    "# Thuc hien thuat toan gram schmidt\n",
    "v1 = x1\n",
    "v2 = x2 - np.inner(x2, v1)/np.inner(v1, v1) * v1\n",
    "v3 = x3 - np.inner(x3, v1)/np.inner(v1, v1) * v1 - np.inner(x3, v2)/np.inner(v2, v2) * v2\n",
    "\n",
    "\n",
    "# Kiem tra bang cach tinh tich tung doi mot, neu tat ca = 0 thi dung.\n",
    "# Truc chuan hoa\n",
    "e_v1 = v1/np.linalg.norm(v1) \n",
    "e_v2 = v2/np.linalg.norm(v2) \n",
    "e_v3 = v3/np.linalg.norm(v3) \n",
    "print(\"Co so cua khong gian Col(A) la \")\n",
    "print(e_v1, e_v2, e_v3, sep=\"\\n\")\n",
    "\n",
    "# Ma tran truc giao Q\n",
    "Q = np.vstack([e_v1, e_v2, e_v3]).T\n",
    "print(Q)"
   ]
  },
  {
   "cell_type": "code",
   "execution_count": 46,
   "id": "58073d81",
   "metadata": {},
   "outputs": [
    {
     "name": "stdout",
     "output_type": "stream",
     "text": [
      "[[1.73205081e+00 1.15470054e+00 5.77350269e-01]\n",
      " [1.11022302e-16 8.16496581e-01 4.08248290e-01]\n",
      " [0.00000000e+00 0.00000000e+00 7.07106781e-01]]\n"
     ]
    },
    {
     "data": {
      "text/plain": [
       "True"
      ]
     },
     "execution_count": 46,
     "metadata": {},
     "output_type": "execute_result"
    }
   ],
   "source": [
    "x1_cood = np.array([np.inner(x1, e_v1), np.inner(x1, e_v2), np.inner(x1, e_v3)])\n",
    "x2_cood = np.array([np.inner(x2, e_v1), np.inner(x2, e_v2), np.inner(x2, e_v3)])\n",
    "x3_cood = np.array([np.inner(x3, e_v1), np.inner(x3, e_v2), np.inner(x3, e_v3)])\n",
    "R = np.vstack([x1_cood, x2_cood, x3_cood]).T\n",
    "print(R)\n",
    "# Kiem tra\n",
    "np.allclose(A, Q@R)"
   ]
  },
  {
   "cell_type": "code",
   "execution_count": 48,
   "id": "b3dd4f96",
   "metadata": {},
   "outputs": [
    {
     "name": "stdout",
     "output_type": "stream",
     "text": [
      "[[-5.77350269e-01  8.16496581e-01 -8.75605293e-17]\n",
      " [-5.77350269e-01 -4.08248290e-01 -7.07106781e-01]\n",
      " [-5.77350269e-01 -4.08248290e-01  7.07106781e-01]]\n",
      "[[-1.73205081 -1.15470054 -0.57735027]\n",
      " [ 0.         -0.81649658 -0.40824829]\n",
      " [ 0.          0.          0.70710678]]\n"
     ]
    }
   ],
   "source": [
    "# Su dung lenh np.linalg.qr()\n",
    "Q, R = np.linalg.qr(A)\n",
    "print(Q)\n",
    "print(R)"
   ]
  },
  {
   "cell_type": "code",
   "execution_count": null,
   "id": "d785451e",
   "metadata": {},
   "outputs": [],
   "source": []
  },
  {
   "cell_type": "code",
   "execution_count": null,
   "id": "fc22bddf",
   "metadata": {},
   "outputs": [],
   "source": []
  }
 ],
 "metadata": {
  "kernelspec": {
   "display_name": "Python 3 (ipykernel)",
   "language": "python",
   "name": "python3"
  },
  "language_info": {
   "codemirror_mode": {
    "name": "ipython",
    "version": 3
   },
   "file_extension": ".py",
   "mimetype": "text/x-python",
   "name": "python",
   "nbconvert_exporter": "python",
   "pygments_lexer": "ipython3",
   "version": "3.9.7"
  }
 },
 "nbformat": 4,
 "nbformat_minor": 5
}
