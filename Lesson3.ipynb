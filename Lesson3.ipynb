{
 "cells": [
  {
   "cell_type": "code",
   "execution_count": 33,
   "id": "2924f12a",
   "metadata": {},
   "outputs": [],
   "source": [
    "import numpy as np\n",
    "from scipy import linalg\n",
    "import pandas as pd\n",
    "import matplotlib.pyplot as plt\n",
    "from sklearn.linear_model import LinearRegression"
   ]
  },
  {
   "cell_type": "code",
   "execution_count": 5,
   "id": "ee6e5ae3",
   "metadata": {},
   "outputs": [
    {
     "name": "stdout",
     "output_type": "stream",
     "text": [
      "[[ 1 -2  4  2]\n",
      " [ 3 -5  3  1]\n",
      " [ 2  4 -3  1]\n",
      " [ 2  5 -6  3]]\n"
     ]
    },
    {
     "data": {
      "text/plain": [
       "array([ 2, -2, -7, -3])"
      ]
     },
     "execution_count": 5,
     "metadata": {},
     "output_type": "execute_result"
    }
   ],
   "source": [
    "A = np.array([[1, -2, 4,2], [3,-5,3,1], [2,4,-3,1], [2,5,-6,3]])\n",
    "b = np.array([2, -2, -7, -3])\n",
    "print(A)\n",
    "b"
   ]
  },
  {
   "cell_type": "code",
   "execution_count": 8,
   "id": "af117eb8",
   "metadata": {},
   "outputs": [
    {
     "name": "stdout",
     "output_type": "stream",
     "text": [
      "Nghiệm của pt là  [-2.82926829 -1.10731707 -0.35609756  2.0195122 ]\n"
     ]
    }
   ],
   "source": [
    "# Giải hệ phương trình Ax = b\n",
    "A1 = np.linalg.inv(A) # Ma trận nghịch đảo của A\n",
    "print(\"Nghiệm của pt là \", A1@b)"
   ]
  },
  {
   "cell_type": "code",
   "execution_count": 9,
   "id": "8150e50b",
   "metadata": {},
   "outputs": [
    {
     "data": {
      "text/plain": [
       "array([-2.82926829, -1.10731707, -0.35609756,  2.0195122 ])"
      ]
     },
     "execution_count": 9,
     "metadata": {},
     "output_type": "execute_result"
    }
   ],
   "source": [
    "# Giải hệ bằng lệnh Linalg.solve()\n",
    "np.linalg.solve(A,b)"
   ]
  },
  {
   "cell_type": "code",
   "execution_count": 13,
   "id": "212e2ec3",
   "metadata": {},
   "outputs": [
    {
     "name": "stdout",
     "output_type": "stream",
     "text": [
      "[[0. 0. 1. 0.]\n",
      " [1. 0. 0. 0.]\n",
      " [0. 0. 0. 1.]\n",
      " [0. 1. 0. 0.]]\n",
      "[[ 1.          0.          0.          0.        ]\n",
      " [ 0.66666667  1.          0.          0.        ]\n",
      " [ 0.33333333 -0.04        1.          0.        ]\n",
      " [ 0.66666667  0.88        0.76119403  1.        ]]\n",
      "[[ 3.         -5.          3.          1.        ]\n",
      " [ 0.          8.33333333 -8.          2.33333333]\n",
      " [ 0.          0.          2.68        1.76      ]\n",
      " [ 0.          0.          0.         -3.05970149]]\n"
     ]
    }
   ],
   "source": [
    "# Giải hệ bằng phân tích LU\n",
    "P,L,U =linalg.lu(A)\n",
    "print(P)\n",
    "print(L)\n",
    "print(U)"
   ]
  },
  {
   "cell_type": "code",
   "execution_count": 18,
   "id": "d297917e",
   "metadata": {},
   "outputs": [
    {
     "name": "stdout",
     "output_type": "stream",
     "text": [
      "[[ 3.         -5.          3.          1.        ]\n",
      " [ 0.66666667  8.33333333 -8.          2.33333333]\n",
      " [ 0.33333333 -0.04        2.68        1.76      ]\n",
      " [ 0.66666667  0.88        0.76119403 -3.05970149]]\n"
     ]
    },
    {
     "data": {
      "text/plain": [
       "array([1, 3, 3, 3], dtype=int32)"
      ]
     },
     "execution_count": 18,
     "metadata": {},
     "output_type": "execute_result"
    }
   ],
   "source": [
    "lu, piv=linalg.lu_factor(A)\n",
    "print(lu)\n",
    "piv # Ánh xạ hàng i của A hoán vị với hàng piv(i)"
   ]
  },
  {
   "cell_type": "code",
   "execution_count": 19,
   "id": "f465eae2",
   "metadata": {},
   "outputs": [
    {
     "data": {
      "text/plain": [
       "array([-2.82926829, -1.10731707, -0.35609756,  2.0195122 ])"
      ]
     },
     "execution_count": 19,
     "metadata": {},
     "output_type": "execute_result"
    }
   ],
   "source": [
    "linalg.lu_solve((lu, piv), b)"
   ]
  },
  {
   "cell_type": "code",
   "execution_count": 24,
   "id": "ca557d8b",
   "metadata": {},
   "outputs": [
    {
     "name": "stdout",
     "output_type": "stream",
     "text": [
      "[[1.  1.1]\n",
      " [1.  1.3]\n",
      " [1.  1.5]\n",
      " [1.  2. ]\n",
      " [1.  2.2]]\n",
      "[39343 46205 37731 43525 39891]\n"
     ]
    },
    {
     "data": {
      "text/plain": [
       "array([41517.05069124,  -109.9078341 ])"
      ]
     },
     "execution_count": 24,
     "metadata": {},
     "output_type": "execute_result"
    }
   ],
   "source": [
    "x0 = np.ones(5)\n",
    "x1 = np.array([1.1, 1.3, 1.5,2,2.2])\n",
    "X = np.vstack([x0,x1]).T\n",
    "print(X)\n",
    "Y = np.array([39343, 46205, 37731, 43525, 39891])\n",
    "print(Y)\n",
    "np.linalg.solve(X.T@X, X.T@Y)"
   ]
  },
  {
   "cell_type": "markdown",
   "id": "38f1ae22",
   "metadata": {},
   "source": [
    "### Mô hình hồi quy có dạng $y = 41517 - 109x$"
   ]
  },
  {
   "cell_type": "code",
   "execution_count": 27,
   "id": "4b48fdaf",
   "metadata": {},
   "outputs": [
    {
     "data": {
      "text/plain": [
       "(array([41517.05069124,  -109.9078341 ]),\n",
       " array([47544450.79262676]),\n",
       " 2,\n",
       " array([4.33112456, 0.48099902]))"
      ]
     },
     "execution_count": 27,
     "metadata": {},
     "output_type": "execute_result"
    }
   ],
   "source": [
    "# Sử dụng hàm lstsq() để tìm tham số mô hình: y = XB + e\n",
    "np.linalg.lstsq(X,Y, rcond=None)"
   ]
  },
  {
   "cell_type": "code",
   "execution_count": 52,
   "id": "1ad9114f",
   "metadata": {},
   "outputs": [
    {
     "name": "stdout",
     "output_type": "stream",
     "text": [
      "[1.44969743 2.47922845 4.54051496 0.38478194 0.25204471 2.15830121\n",
      " 1.91829448 2.12243824 1.37106802 1.56576298 4.25662966 4.13726804\n",
      " 1.88709924 3.89992151 4.0282667  4.77060373 0.66356719 4.16290888\n",
      " 0.92747242 1.04077147 3.12686641 1.58014605 1.37204117 2.84800146\n",
      " 1.42151994 0.41442425 1.2497231  4.30286466 2.9685581  2.66930455\n",
      " 2.79464219 4.56158622 4.7332067  1.40483925 0.63024868 2.76509664\n",
      " 2.68782182 1.16189624 3.17451311 3.36585116 0.66332298 0.34992611\n",
      " 4.92150023 4.17778782 2.83977405 2.75011963 1.97312377 4.6869943\n",
      " 1.91428904 4.97203363 1.00697129 3.37632386 0.96435509 1.9198558\n",
      " 1.51112127 3.27955455 4.24560609 3.70775919 1.79048953 3.30506937\n",
      " 3.3725103  3.61139764 2.15461225 2.15225129 2.65489474 1.29654316\n",
      " 3.81031966 2.85415478 1.99441456 2.62287175 1.06850972 1.5530349\n",
      " 1.7059592  0.39218687 4.95723335 4.09450191 2.18046411 3.51053997\n",
      " 3.6154077  4.64970513 3.92144579 2.85163441 0.36600018 2.55065136\n",
      " 1.80534216 3.05321727 2.92459893 4.68319924 0.69967828 1.67202207\n",
      " 2.78484324 4.36376606 4.47916191 1.40475298 4.48152681 3.61255054\n",
      " 0.05953445 3.29042908 0.19906429 0.84961523]\n"
     ]
    },
    {
     "data": {
      "text/plain": [
       "[<matplotlib.lines.Line2D at 0x23d28271fd0>]"
      ]
     },
     "execution_count": 52,
     "metadata": {},
     "output_type": "execute_result"
    },
    {
     "data": {
      "image/png": "[encoded data removed]",
      "text/plain": [
       "<Figure size 432x288 with 1 Axes>"
      ]
     },
     "metadata": {
      "needs_background": "light"
     },
     "output_type": "display_data"
    }
   ],
   "source": [
    "# Khởi tạo dữ liệu\n",
    "n = 100\n",
    "e =  5 * np.random.rand(n)\n",
    "print(e)\n",
    "x = np.arange(100)\n",
    "y = 5 + 2 * x + e\n",
    "# Biểu diễn bảng\n",
    "df = pd.DataFrame(np.vstack([x,y]).T, columns=['x', 'y'])\n",
    "# Vẽ đồ thị\n",
    "plt.plot(x, y)"
   ]
  },
  {
   "cell_type": "code",
   "execution_count": 53,
   "id": "5012b7f5",
   "metadata": {},
   "outputs": [
    {
     "name": "stdout",
     "output_type": "stream",
     "text": [
      "Cac tham so cua mo hinh:  [7.40942751 2.00302375]\n"
     ]
    }
   ],
   "source": [
    "model = LinearRegression(fit_intercept=False)\n",
    "X = np.vstack([np.ones(n), x]).T\n",
    "model.fit(X, y)\n",
    "print(\"Cac tham so cua mo hinh: \", model.coef_)"
   ]
  },
  {
   "cell_type": "code",
   "execution_count": 54,
   "id": "8e9a578e",
   "metadata": {},
   "outputs": [
    {
     "data": {
      "image/png": "[encoded data removed]",
      "text/plain": [
       "<Figure size 432x288 with 1 Axes>"
      ]
     },
     "metadata": {
      "needs_background": "light"
     },
     "output_type": "display_data"
    }
   ],
   "source": [
    "# Vẽ đồ thị\n",
    "plt.scatter(x, y, label=\"Original Data\")\n",
    "yfit = model.predict(X)\n",
    "plt.plot(x,yfit, label=\"Duong hoi quy\", color=\"red\")\n",
    "plt.legend()\n",
    "plt.show()"
   ]
  }
 ],
 "metadata": {
  "kernelspec": {
   "display_name": "Python 3 (ipykernel)",
   "language": "python",
   "name": "python3"
  },
  "language_info": {
   "codemirror_mode": {
    "name": "ipython",
    "version": 3
   },
   "file_extension": ".py",
   "mimetype": "text/x-python",
   "name": "python",
   "nbconvert_exporter": "python",
   "pygments_lexer": "ipython3",
   "version": "3.9.7"
  }
 },
 "nbformat": 4,
 "nbformat_minor": 5
}
