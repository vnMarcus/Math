{
 "cells": [
  {
   "cell_type": "code",
   "execution_count": 1,
   "id": "6b3665af",
   "metadata": {},
   "outputs": [],
   "source": [
    "import numpy as np"
   ]
  },
  {
   "cell_type": "code",
   "execution_count": 4,
   "id": "0389e5e9",
   "metadata": {},
   "outputs": [
    {
     "data": {
      "text/plain": [
       "array([[0., 0., 0.],\n",
       "       [0., 0., 0.]])"
      ]
     },
     "execution_count": 4,
     "metadata": {},
     "output_type": "execute_result"
    }
   ],
   "source": [
    "A = np.empty((2,3), dtype=np.float64)\n",
    "A"
   ]
  },
  {
   "cell_type": "code",
   "execution_count": 9,
   "id": "15189fcb",
   "metadata": {},
   "outputs": [
    {
     "data": {
      "text/plain": [
       "array([[0., 0., 0., 0., 1., 0.],\n",
       "       [0., 0., 0., 0., 0., 1.],\n",
       "       [0., 0., 0., 0., 0., 0.],\n",
       "       [0., 0., 0., 0., 0., 0.]])"
      ]
     },
     "execution_count": 9,
     "metadata": {},
     "output_type": "execute_result"
    }
   ],
   "source": [
    "B = np.eye(4,6,4)\n",
    "B"
   ]
  },
  {
   "cell_type": "code",
   "execution_count": 13,
   "id": "d3ec1f4c",
   "metadata": {},
   "outputs": [
    {
     "data": {
      "text/plain": [
       "array([[-7,  0,  5],\n",
       "       [ 6,  0,  4],\n",
       "       [ 1,  9, -3]])"
      ]
     },
     "execution_count": 13,
     "metadata": {},
     "output_type": "execute_result"
    }
   ],
   "source": [
    "C = np.random.randint(-10, 10,(3,3))\n",
    "C"
   ]
  },
  {
   "cell_type": "code",
   "execution_count": 14,
   "id": "3251abfe",
   "metadata": {},
   "outputs": [
    {
     "data": {
      "text/plain": [
       "array([-7,  0, -3])"
      ]
     },
     "execution_count": 14,
     "metadata": {},
     "output_type": "execute_result"
    }
   ],
   "source": [
    "np.diag(C)"
   ]
  },
  {
   "cell_type": "code",
   "execution_count": 16,
   "id": "f2ab17ea",
   "metadata": {},
   "outputs": [
    {
     "data": {
      "text/plain": [
       "array([[ -7,  -2,  -9,   2],\n",
       "       [  4,  -5,   9,  -4],\n",
       "       [-10, -10,   3,   8],\n",
       "       [  8,   7,   6,  -5]])"
      ]
     },
     "execution_count": 16,
     "metadata": {},
     "output_type": "execute_result"
    }
   ],
   "source": [
    "A = np.random.randint(-10, 10, (4,4))\n",
    "A"
   ]
  },
  {
   "cell_type": "code",
   "execution_count": 23,
   "id": "6c915f3b",
   "metadata": {},
   "outputs": [
    {
     "name": "stdout",
     "output_type": "stream",
     "text": [
      "[[ -7  -2  -9   0]\n",
      " [  4  -5   9  -4]\n",
      " [  0 -10   3   8]\n",
      " [  0   0   6  -5]]\n"
     ]
    },
    {
     "data": {
      "text/plain": [
       "array([[ -7,  -2,   0,   0],\n",
       "       [  4,  -5,   9,   0],\n",
       "       [  0, -10,   3,   8],\n",
       "       [  0,   0,   6,  -5]])"
      ]
     },
     "execution_count": 23,
     "metadata": {},
     "output_type": "execute_result"
    }
   ],
   "source": [
    "A[0,3] = 0\n",
    "D = np.triu(A, -1)\n",
    "print(D)\n",
    "C = np.triu(A, -1) + np.tril(A, 1) - A\n",
    "C"
   ]
  },
  {
   "cell_type": "code",
   "execution_count": 24,
   "id": "8a884aed",
   "metadata": {},
   "outputs": [
    {
     "name": "stdout",
     "output_type": "stream",
     "text": [
      "[[ 1  2 -3]\n",
      " [ 4  1  5]]\n",
      "[[-7  6 -4]\n",
      " [ 3  0  7]\n",
      " [-8 -9  8]]\n"
     ]
    }
   ],
   "source": [
    "A = np.array([[1,2,-3], [4,1,5]])\n",
    "B = np.random.randint(-10, 10, (3,3))\n",
    "print(A)\n",
    "print(B)"
   ]
  },
  {
   "cell_type": "code",
   "execution_count": 26,
   "id": "4caa8b14",
   "metadata": {},
   "outputs": [
    {
     "data": {
      "text/plain": [
       "array([[ 23,  33, -14],\n",
       "       [-65, -21,  31]])"
      ]
     },
     "execution_count": 26,
     "metadata": {},
     "output_type": "execute_result"
    }
   ],
   "source": [
    "A@B"
   ]
  },
  {
   "cell_type": "code",
   "execution_count": 28,
   "id": "7684bedf",
   "metadata": {},
   "outputs": [
    {
     "data": {
      "text/plain": [
       "array([[ 8,  5,  6],\n",
       "       [ 1, -2,  0],\n",
       "       [-8, -2,  3]])"
      ]
     },
     "execution_count": 28,
     "metadata": {},
     "output_type": "execute_result"
    }
   ],
   "source": [
    "A = np.random.randint(-10,10,(3,3))\n",
    "A"
   ]
  },
  {
   "cell_type": "code",
   "execution_count": 29,
   "id": "9429b684",
   "metadata": {},
   "outputs": [
    {
     "data": {
      "text/plain": [
       "array([[ 21,  18,  66],\n",
       "       [  6,   9,   6],\n",
       "       [-90, -42, -39]])"
      ]
     },
     "execution_count": 29,
     "metadata": {},
     "output_type": "execute_result"
    }
   ],
   "source": [
    "np.linalg.matrix_power(A,2)"
   ]
  },
  {
   "cell_type": "code",
   "execution_count": 31,
   "id": "13108937",
   "metadata": {},
   "outputs": [
    {
     "data": {
      "text/plain": [
       "3"
      ]
     },
     "execution_count": 31,
     "metadata": {},
     "output_type": "execute_result"
    }
   ],
   "source": [
    "np.linalg.det(A)\n",
    "np.linalg.matrix_rank(A)"
   ]
  },
  {
   "cell_type": "code",
   "execution_count": 34,
   "id": "4fa2dea2",
   "metadata": {},
   "outputs": [
    {
     "data": {
      "text/plain": [
       "array([[5, 3, 0, 1],\n",
       "       [4, 0, 0, 1],\n",
       "       [1, 1, 0, 5],\n",
       "       [1, 0, 0, 4],\n",
       "       [0, 1, 5, 4]])"
      ]
     },
     "execution_count": 34,
     "metadata": {},
     "output_type": "execute_result"
    }
   ],
   "source": [
    "# Thuật toán phân tích ma trận\n",
    "X = np.array([[5,3,0,1],[4,0,0,1],[1,1,0,5],[1,0,0,4],[0,1,5,4]])\n",
    "X"
   ]
  },
  {
   "cell_type": "code",
   "execution_count": 37,
   "id": "2dd4aa6a",
   "metadata": {},
   "outputs": [
    {
     "name": "stdout",
     "output_type": "stream",
     "text": [
      "5 4\n",
      "[[0.38534655 0.92504502]\n",
      " [0.71658292 0.88833973]\n",
      " [0.21912414 0.83285005]\n",
      " [0.9919599  0.28810586]\n",
      " [0.13471281 0.69604019]]\n",
      "[[0.01539614 0.33219392]\n",
      " [0.01824524 0.91448334]\n",
      " [0.32955247 0.30726036]\n",
      " [0.8740239  0.88826943]]\n"
     ]
    }
   ],
   "source": [
    "# Khoi tao gia tri xuat phat W, H\n",
    "m,n = X.shape\n",
    "print(m,n)\n",
    "W = np.random.random((m,2))\n",
    "H = np.random.random((n,2))\n",
    "print(W)\n",
    "print(H)"
   ]
  },
  {
   "cell_type": "code",
   "execution_count": 38,
   "id": "b44bf5b9",
   "metadata": {},
   "outputs": [
    {
     "name": "stdout",
     "output_type": "stream",
     "text": [
      "Step: 999\n",
      "[[-0.29653187  2.32622417]\n",
      " [-0.14645351  1.85728794]\n",
      " [ 1.92568432  0.97905993]\n",
      " [ 1.52958062  0.81509973]\n",
      " [ 1.39655567  1.32011422]]\n",
      "[[-0.49783805  2.09873115]\n",
      " [-0.22728233  1.22549027]\n",
      " [ 1.43067295  2.20137572]\n",
      " [ 2.22905769  0.71121824]]\n",
      "[[5.02974397 2.91816154 4.69665329 0.99346642]\n",
      " [3.97085818 2.30937459 3.87906151 0.99448374]\n",
      " [1.09610464 0.7621544  4.91030321 4.98878672]\n",
      " [0.94919177 0.65125015 3.98267039 3.98923725]\n",
      " [2.07530627 1.30037471 4.9040818  4.05189247]]\n",
      "[[5 3 0 1]\n",
      " [4 0 0 1]\n",
      " [1 1 0 5]\n",
      " [1 0 0 4]\n",
      " [0 1 5 4]]\n"
     ]
    }
   ],
   "source": [
    "steps = 1000\n",
    "beta = 0.001\n",
    "L0 = 1e-5\n",
    "for step in range(steps): # Loop steps times\n",
    "    L = 0\n",
    "    for u in range(m):\n",
    "        for i in range(n):\n",
    "            if X[u,i] > 0:\n",
    "                eui = X[u,i] - W[u,:]@H[i,:]\n",
    "                for k in range(2):\n",
    "                    W[u, k] = W[u,k] + beta*2*eui*H[i,k]\n",
    "                    H[i, k] = H[i,k] + beta*2*eui*W[u,k]\n",
    "                eui_new = X[u, i] - W[u,:]@H[i,:]\n",
    "                L = L + eui_new**2\n",
    "    if L < L0:\n",
    "        break\n",
    "# print the result\n",
    "print(\"Step:\", step)\n",
    "print(W)\n",
    "print(H)\n",
    "print(W@H.T)\n",
    "print(X)"
   ]
  }
 ],
 "metadata": {
  "kernelspec": {
   "display_name": "Python 3 (ipykernel)",
   "language": "python",
   "name": "python3"
  },
  "language_info": {
   "codemirror_mode": {
    "name": "ipython",
    "version": 3
   },
   "file_extension": ".py",
   "mimetype": "text/x-python",
   "name": "python",
   "nbconvert_exporter": "python",
   "pygments_lexer": "ipython3",
   "version": "3.9.7"
  }
 },
 "nbformat": 4,
 "nbformat_minor": 5
}
