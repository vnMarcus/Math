{
 "cells": [
  {
   "cell_type": "markdown",
   "id": "d143169b",
   "metadata": {},
   "source": [
    "## Giới thiệu về thư viện Numpy"
   ]
  },
  {
   "cell_type": "code",
   "execution_count": 2,
   "id": "fcf4ff0d",
   "metadata": {},
   "outputs": [],
   "source": [
    "import numpy as np"
   ]
  },
  {
   "cell_type": "code",
   "execution_count": 20,
   "id": "65c158f4",
   "metadata": {},
   "outputs": [
    {
     "name": "stdout",
     "output_type": "stream",
     "text": [
      "A = \n",
      "[[ 1  2  3]\n",
      " [ 2 -4  1]]\n"
     ]
    }
   ],
   "source": [
    "A = np.array([[1,2,3], [2,-4,1]])\n",
    "print('A = ', A, sep=\"\\n\")"
   ]
  },
  {
   "cell_type": "code",
   "execution_count": 24,
   "id": "36488b1e",
   "metadata": {},
   "outputs": [
    {
     "name": "stdout",
     "output_type": "stream",
     "text": [
      "2\n",
      "(2, 3)\n",
      "6\n"
     ]
    }
   ],
   "source": [
    "print(A.ndim)\n",
    "print(A.shape)\n",
    "print(A.size)"
   ]
  },
  {
   "cell_type": "code",
   "execution_count": 28,
   "id": "b66a2ec8",
   "metadata": {},
   "outputs": [
    {
     "data": {
      "text/plain": [
       "array([0., 0., 0., 0., 0.])"
      ]
     },
     "execution_count": 28,
     "metadata": {},
     "output_type": "execute_result"
    }
   ],
   "source": [
    "# Một số cách khởi tạo khác\n",
    "A1 = np.zeros(5)\n",
    "A1"
   ]
  },
  {
   "cell_type": "code",
   "execution_count": 3,
   "id": "08dc2409",
   "metadata": {},
   "outputs": [
    {
     "data": {
      "text/plain": [
       "array([1, 2])"
      ]
     },
     "execution_count": 3,
     "metadata": {},
     "output_type": "execute_result"
    }
   ],
   "source": [
    "np.array([1,2])"
   ]
  },
  {
   "cell_type": "code",
   "execution_count": 4,
   "id": "5ac1864e",
   "metadata": {},
   "outputs": [
    {
     "data": {
      "text/plain": [
       "array([0, 2, 4, 6, 8])"
      ]
     },
     "execution_count": 4,
     "metadata": {},
     "output_type": "execute_result"
    }
   ],
   "source": [
    "np.arange(0,10,2)"
   ]
  },
  {
   "cell_type": "code",
   "execution_count": 13,
   "id": "e2792684",
   "metadata": {},
   "outputs": [
    {
     "name": "stdout",
     "output_type": "stream",
     "text": [
      "[[0.25564797 0.0642546 ]\n",
      " [0.12629953 0.91928048]]\n"
     ]
    },
    {
     "data": {
      "text/plain": [
       "array([[1., 0., 0.],\n",
       "       [0., 1., 0.],\n",
       "       [0., 0., 1.]])"
      ]
     },
     "execution_count": 13,
     "metadata": {},
     "output_type": "execute_result"
    }
   ],
   "source": [
    "np.linspace(1,10,20)\n",
    "A6 = np.random.random((2,2))\n",
    "print(A6)\n",
    "np.random.randint(1,15,(2,3))\n",
    "np.random.normal(0,9,(3,2))\n",
    "np.random.randn(7)\n",
    "np.eye(3)"
   ]
  },
  {
   "cell_type": "code",
   "execution_count": 15,
   "id": "ecc3f5b2",
   "metadata": {},
   "outputs": [
    {
     "name": "stdout",
     "output_type": "stream",
     "text": [
      "[[ 1  2 -2  3]\n",
      " [-2  5  1  7]\n",
      " [ 0  1  2  3]]\n",
      "[[ 1]\n",
      " [ 2]\n",
      " [-2]\n",
      " [ 3]]\n"
     ]
    }
   ],
   "source": [
    "v1 = np.array([1, 2, -2, 3])\n",
    "v2 = np.array([-2,5,1,7])\n",
    "v3 = np.arange(4)\n",
    "v = np.vstack([v1, v2, v3])\n",
    "print(v)\n",
    "u1 = v1[:, np.newaxis]\n",
    "print(u1)"
   ]
  },
  {
   "cell_type": "code",
   "execution_count": 20,
   "id": "7cb549b7",
   "metadata": {},
   "outputs": [
    {
     "name": "stdout",
     "output_type": "stream",
     "text": [
      "[ 2.1530905  -1.37289577 -0.723153   -0.57225256  0.13926936 -1.28801573\n",
      "  1.30248543  1.41738952  0.29158684  0.43876992 -0.13151058 -0.52762665\n",
      "  0.10889508  0.44265998  2.32663267 -0.48451461 -1.8031845  -1.26925587\n",
      " -0.33433779 -0.45579391 -0.00844683 -0.709205    0.28117713 -0.07222447\n",
      " -0.6813844  -2.13584871  1.23505643  0.3927822   0.56002407 -1.51216695\n",
      "  1.29049736  0.58309593 -0.74490399  1.20745721  0.6579713  -0.35274931\n",
      "  0.45698561  1.81731093  0.90184447  1.5684633  -0.33882493 -0.2130519\n",
      " -1.24623705  1.30148155 -0.69641622  0.02459788  0.94834722  0.47104108\n",
      "  0.23442869 -0.17854131 -0.71678961  0.01863943  1.24084403  0.93518078\n",
      "  0.34704826  0.48356871  0.45679464 -2.55748837  0.02931142  1.12108455\n",
      " -0.70489338  1.36328979 -1.12310507 -0.6337052   0.51251331 -1.28164846\n",
      " -0.00626517  0.39603192 -0.40221654  0.04399509  1.26269058 -0.6386931\n",
      "  0.73811944 -0.16630852  0.63929402  1.2572447  -0.51811024 -0.63069925\n",
      "  0.62887837 -0.66200726 -0.37828077 -0.51254607 -0.02648561  3.71833816\n",
      " -0.4948794   1.35668908 -2.22998692  0.08619228  0.37676829 -2.19593878\n",
      "  0.75645038 -1.2377925   0.43625679  0.01950663  2.24056039  0.62324384\n",
      " -1.2459814   1.30227165  0.93777049 -0.21175403]\n"
     ]
    },
    {
     "data": {
      "text/plain": [
       "0.09453800972661233"
      ]
     },
     "execution_count": 20,
     "metadata": {},
     "output_type": "execute_result"
    }
   ],
   "source": [
    "A = np.random.randn(100)\n",
    "print(A)\n",
    "A.mean()"
   ]
  },
  {
   "cell_type": "code",
   "execution_count": 38,
   "id": "37b60dde",
   "metadata": {},
   "outputs": [
    {
     "name": "stdout",
     "output_type": "stream",
     "text": [
      "[[-8 -6  5  2  6  5  7  0 -3  5]\n",
      " [-8 -3  0  4  4  6  4  1  0  5]\n",
      " [-8 -3  0  2  4  4  3  1  2  5]\n",
      " [-8 -3  0  2  3  3  2  2  2  5]\n",
      " [-8 -3  0  1  2  2  2  2  3  5]\n",
      " [-8 -3  0  1  1  2  2  2  3  5]\n",
      " [-8 -3  0  0  1  1  2  2  3  5]\n",
      " [-8 -3 -1  0  0  1  1  2  3  5]\n",
      " [-8 -4 -1  0  0  0  1  2  3  5]\n",
      " [-8 -4 -1  0  0  0  1  2  3  5]]\n"
     ]
    }
   ],
   "source": [
    "# Bai 1\n",
    "A = np.random.randint(-10, 10, (10, 10))\n",
    "A[:,0] = A[0, 0]\n",
    "A[:,9] = A[0, 9]\n",
    "for row in range(1, 10):\n",
    "    for col in range(1,9):\n",
    "        A[row, col] = (A[row - 1, col - 1] + A[row - 1, col] + A[row - 1, col + 1]) / 3\n",
    "print(A)"
   ]
  },
  {
   "cell_type": "code",
   "execution_count": 51,
   "id": "b79b91a3",
   "metadata": {},
   "outputs": [
    {
     "name": "stdout",
     "output_type": "stream",
     "text": [
      "[[0]\n",
      " [1]\n",
      " [2]\n",
      " [3]\n",
      " [4]\n",
      " [5]\n",
      " [6]\n",
      " [7]\n",
      " [8]\n",
      " [9]]\n",
      "[[ 0  3  5  6]\n",
      " [ 1  4  6  7]\n",
      " [ 2  5  7  8]\n",
      " [ 3  6  8  9]\n",
      " [ 4  7  9 10]\n",
      " [ 5  8 10 11]\n",
      " [ 6  9 11 12]\n",
      " [ 7 10 12 13]\n",
      " [ 8 11 13 14]\n",
      " [ 9 12 14 15]]\n"
     ]
    }
   ],
   "source": [
    "# Bai 2\n",
    "x = np.arange(10)\n",
    "f1 = x + 3\n",
    "f2 = x + 5\n",
    "f3 = x + 6\n",
    "f1 = f1[:, np.newaxis]\n",
    "x = x[:, np.newaxis]\n",
    "f2 = f2[:, np.newaxis]\n",
    "f3 = f3[:, np.newaxis]\n",
    "f = np.hstack([x, f1, f2, f3])\n",
    "print(x)\n",
    "print(f)"
   ]
  },
  {
   "cell_type": "code",
   "execution_count": 52,
   "id": "8ae3d2f2",
   "metadata": {},
   "outputs": [
    {
     "data": {
      "text/plain": [
       "array([[ 0,  1,  2,  3,  4,  5,  6,  7,  8,  9],\n",
       "       [ 3,  4,  5,  6,  7,  8,  9, 10, 11, 12],\n",
       "       [ 5,  6,  7,  8,  9, 10, 11, 12, 13, 14],\n",
       "       [ 6,  7,  8,  9, 10, 11, 12, 13, 14, 15]])"
      ]
     },
     "execution_count": 52,
     "metadata": {},
     "output_type": "execute_result"
    }
   ],
   "source": [
    "f.T"
   ]
  }
 ],
 "metadata": {
  "kernelspec": {
   "display_name": "Python 3 (ipykernel)",
   "language": "python",
   "name": "python3"
  },
  "language_info": {
   "codemirror_mode": {
    "name": "ipython",
    "version": 3
   },
   "file_extension": ".py",
   "mimetype": "text/x-python",
   "name": "python",
   "nbconvert_exporter": "python",
   "pygments_lexer": "ipython3",
   "version": "3.9.7"
  }
 },
 "nbformat": 4,
 "nbformat_minor": 5
}
